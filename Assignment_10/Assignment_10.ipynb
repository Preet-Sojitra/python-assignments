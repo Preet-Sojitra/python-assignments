{
  "nbformat": 4,
  "nbformat_minor": 0,
  "metadata": {
    "colab": {
      "name": "21BCP317_KalashJain.ipynb",
      "provenance": []
    },
    "kernelspec": {
      "name": "python3",
      "display_name": "Python 3"
    },
    "language_info": {
      "name": "python"
    }
  },
  "cells": [
    {
      "cell_type": "code",
      "execution_count": 5,
      "metadata": {
        "colab": {
          "base_uri": "https://localhost:8080/"
        },
        "id": "sYXm371CrAe9",
        "outputId": "1b18ea01-03f1-436d-9674-7df7cf35f6e7"
      },
      "outputs": [
        {
          "output_type": "stream",
          "name": "stdout",
          "text": [
            "Original List :  [4, 5, 6, 3, 1, 4]\n",
            "Sorted List :  [1, 3, 4, 4, 5, 6]\n"
          ]
        }
      ],
      "source": [
        "# Bubble Sorting\n",
        "\n",
        "list_1 = [4,5,6,3,1,4]\n",
        "print(\"Original List : \", list_1)\n",
        "\n",
        "def swap(i, j, list_1):\n",
        "  temp = list_1[i]\n",
        "  list_1[i] = list_1[j]\n",
        "  list_1[j] = temp\n",
        "\n",
        "for i in range(0, len(list_1)):\n",
        "  for j in range(i, len(list_1)):\n",
        "    if list_1[i] > list_1[j]:\n",
        "      swap(i, j, list_1)\n",
        "\n",
        "print(\"Sorted List : \", list_1) "
      ]
    },
    {
      "cell_type": "code",
      "source": [
        "# Selection Sorting\n",
        "\n",
        "list_2 = [2,3,8,3,7,9,2,8]\n",
        "print(\"Original List : \", list_2)\n",
        "\n",
        "for i in range(0, len(list_2)):\n",
        "  min_index = i\n",
        "  min = list_2[i]\n",
        "  for j in range(i, len(list_2)):\n",
        "    if list_2[j] < min:\n",
        "      min_index = j\n",
        "  temp = list_2[min_index]\n",
        "  list_2[min_index] = list_2[i]\n",
        "  list_2[i] = temp\n",
        "\n",
        "print(\"Sorted List : \", list_2)"
      ],
      "metadata": {
        "colab": {
          "base_uri": "https://localhost:8080/"
        },
        "id": "4VLvoxBJsK41",
        "outputId": "ccc6eb0a-12fc-49b5-f706-4fcae1e1d2ee"
      },
      "execution_count": 8,
      "outputs": [
        {
          "output_type": "stream",
          "name": "stdout",
          "text": [
            "Original List :  [2, 3, 8, 3, 7, 9, 2, 8]\n",
            "Sorted List :  [2, 2, 3, 3, 7, 8, 8, 9]\n"
          ]
        }
      ]
    }
  ]
}