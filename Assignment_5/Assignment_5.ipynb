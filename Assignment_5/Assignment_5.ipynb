{
  "nbformat": 4,
  "nbformat_minor": 0,
  "metadata": {
    "colab": {
      "name": "21BCP317_KalashJain.ipynb",
      "provenance": []
    },
    "kernelspec": {
      "name": "python3",
      "display_name": "Python 3"
    },
    "language_info": {
      "name": "python"
    }
  },
  "cells": [
    {
      "cell_type": "code",
      "execution_count": 1,
      "metadata": {
        "colab": {
          "base_uri": "https://localhost:8080/"
        },
        "id": "6I6a9CQjNWh7",
        "outputId": "215d3ef1-a05e-48f2-f27c-5d9a8ea5850a"
      },
      "outputs": [
        {
          "output_type": "stream",
          "name": "stdout",
          "text": [
            "Enter the numerator: 5\n",
            "Enter the denominator: 0\n",
            "Can't divide by 0 !!\n"
          ]
        }
      ],
      "source": [
        "# Question : WAP to handle zero division error.\n",
        "\n",
        "# Code :\n",
        "\n",
        "try:\n",
        "  num = int(input(\"Enter the numerator: \"))\n",
        "  den = int(input(\"Enter the denominator: \"))\n",
        "  print(f\"Answer after divisoion: {num/den}\")\n",
        "\n",
        "except ZeroDivisionError:\n",
        "  print(\"Can't divide by 0 !!\")\n"
      ]
    },
    {
      "cell_type": "code",
      "source": [
        "# Question : WAP to handle error while working with file.\n",
        "\n",
        "# Code :\n",
        "\n",
        "try:\n",
        "    file = open(\"myfile.txt\")\n",
        "    file.write(\"Hello World!!\")\n",
        "\n",
        "except:\n",
        "    print(\"There was some error while working with the file.\")"
      ],
      "metadata": {
        "colab": {
          "base_uri": "https://localhost:8080/"
        },
        "id": "IFjt1lpNPmvG",
        "outputId": "617b81cd-2018-492d-e5ec-82bf62cfba1d"
      },
      "execution_count": 2,
      "outputs": [
        {
          "output_type": "stream",
          "name": "stdout",
          "text": [
            "There was some error while working with the file.\n"
          ]
        }
      ]
    },
    {
      "cell_type": "code",
      "source": [
        "# Question : WAP to handle value error.\n",
        "\n",
        "# Code :\n",
        "\n",
        "import math\n",
        "\n",
        "try:\n",
        "  num = int(input(\"Enter a number: \"))\n",
        "  print(f\"The square root of the number is: {math.sqrt(num)}\")\n",
        "\n",
        "except ValueError:\n",
        "  print(\"Enter only positive numbers!!\")"
      ],
      "metadata": {
        "colab": {
          "base_uri": "https://localhost:8080/"
        },
        "id": "YwbezDJmQ3XS",
        "outputId": "b5d52589-0986-4c0e-8807-ff4c1ceb826f"
      },
      "execution_count": 4,
      "outputs": [
        {
          "output_type": "stream",
          "name": "stdout",
          "text": [
            "Enter a number: -5\n",
            "Enter only positive numbers!!\n"
          ]
        }
      ]
    }
  ]
}