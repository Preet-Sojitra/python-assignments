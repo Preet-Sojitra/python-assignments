{
  "nbformat": 4,
  "nbformat_minor": 0,
  "metadata": {
    "colab": {
      "name": "Untitled2.ipynb",
      "provenance": []
    },
    "kernelspec": {
      "name": "python3",
      "display_name": "Python 3"
    },
    "language_info": {
      "name": "python"
    }
  },
  "cells": [
    {
      "cell_type": "markdown",
      "source": [
        "**2**. WAP to take 5 integer values as input and print the quotient and remainder when the maximum of them is divided by the minimum of them."
      ],
      "metadata": {
        "id": "W-PUxdEKTC9b"
      }
    },
    {
      "cell_type": "code",
      "execution_count": 8,
      "metadata": {
        "colab": {
          "base_uri": "https://localhost:8080/"
        },
        "id": "vkXm1HvzRiIc",
        "outputId": "4ed69a67-80ac-4bb9-d060-19da2c780bbd"
      },
      "outputs": [
        {
          "output_type": "stream",
          "name": "stdout",
          "text": [
            "Enter 5 numbers\n",
            "42\n",
            "24\n",
            "32\n",
            "69\n",
            "96\n",
            "Quotient is: 4.0\n",
            "Remainder is: 0\n"
          ]
        }
      ],
      "source": [
        "print('Enter 5 numbers')\n",
        "a = int(input())\n",
        "b = int(input())\n",
        "c = int(input())\n",
        "d = int(input())\n",
        "e = int(input())\n",
        "\n",
        "maxNo = max(a,b,c,d,e)\n",
        "minNo = min(a,b,c,d,e)\n",
        "\n",
        "print(\"Quotient is: \" + str(maxNo/minNo))\n",
        "print(\"Remainder is: \" + str(maxNo%minNo))\n"
      ]
    }
  ]
}