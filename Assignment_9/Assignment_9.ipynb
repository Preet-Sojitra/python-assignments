{
  "nbformat": 4,
  "nbformat_minor": 0,
  "metadata": {
    "colab": {
      "name": "21BCP317_KalashJain.ipynb",
      "provenance": []
    },
    "kernelspec": {
      "name": "python3",
      "display_name": "Python 3"
    },
    "language_info": {
      "name": "python"
    }
  },
  "cells": [
    {
      "cell_type": "markdown",
      "source": [
        "***Question : Implement the OOPs examples provided in the PPT.***"
      ],
      "metadata": {
        "id": "ITVZcI1VD-fI"
      }
    },
    {
      "cell_type": "code",
      "execution_count": 1,
      "metadata": {
        "colab": {
          "base_uri": "https://localhost:8080/"
        },
        "id": "6CXomyzkBetz",
        "outputId": "53eb8f8f-4159-4609-ecc4-ea394bc1efb0"
      },
      "outputs": [
        {
          "output_type": "stream",
          "name": "stdout",
          "text": [
            "Scooby 5\n"
          ]
        }
      ],
      "source": [
        "class Animal:\n",
        "  def __init__(self, name, age1):\n",
        "    self.givenname = name\n",
        "    self.age = age1\n",
        "\n",
        "  def printname(self):\n",
        "    print(self.givenname, self.age)\n",
        "\n",
        "x = Animal(\"Scooby\", \"5\")\n",
        "x.printname()"
      ]
    },
    {
      "cell_type": "code",
      "source": [
        "class Dog(Animal):\n",
        "  pass\n",
        "\n",
        "x = Dog(\"Scooby\", \"5\")\n",
        "x.printname()"
      ],
      "metadata": {
        "colab": {
          "base_uri": "https://localhost:8080/"
        },
        "id": "ezgINdS-F0Fz",
        "outputId": "48cb5e0c-57d0-48e6-dba2-fe0730295082"
      },
      "execution_count": 2,
      "outputs": [
        {
          "output_type": "stream",
          "name": "stdout",
          "text": [
            "Scooby 5\n"
          ]
        }
      ]
    },
    {
      "cell_type": "code",
      "source": [
        "class Animal:\n",
        "  def __init__(self, name, age1):\n",
        "    self.givenname = name\n",
        "    self.age = age1\n",
        "\n",
        "  def printname(self):\n",
        "    print(self.givenname, self.age)\n",
        "\n",
        "class Dog(Animal):\n",
        "  def __init__(self, name, age):\n",
        "    super().__init__(name, age)\n",
        "    self.owner = 'Sam'\n",
        "\n",
        "x = Dog(\"Scooby\", \"5\")\n",
        "x.printname()\n",
        "x.owner"
      ],
      "metadata": {
        "colab": {
          "base_uri": "https://localhost:8080/",
          "height": 53
        },
        "id": "GFkLXX1xGEed",
        "outputId": "c01d0baa-8efd-499a-db68-5fdf6ceef39e"
      },
      "execution_count": 4,
      "outputs": [
        {
          "output_type": "stream",
          "name": "stdout",
          "text": [
            "Scooby 5\n"
          ]
        },
        {
          "output_type": "execute_result",
          "data": {
            "text/plain": [
              "'Sam'"
            ],
            "application/vnd.google.colaboratory.intrinsic+json": {
              "type": "string"
            }
          },
          "metadata": {},
          "execution_count": 4
        }
      ]
    },
    {
      "cell_type": "code",
      "source": [
        "class Rectangle:\n",
        "  __length = 4\n",
        "  __breadth = 3\n",
        "\n",
        "  def __init__(self):\n",
        "    self.length = self.__length\n",
        "    self.breadth = self.__breadth\n",
        "\n",
        "rec = Rectangle()\n",
        "rec.length\n",
        "rec.breadth"
      ],
      "metadata": {
        "colab": {
          "base_uri": "https://localhost:8080/"
        },
        "id": "R7fLdLshInNH",
        "outputId": "4c6a9c22-0e7e-46d1-dd67-e68cc2ef403a"
      },
      "execution_count": 17,
      "outputs": [
        {
          "output_type": "execute_result",
          "data": {
            "text/plain": [
              "3"
            ]
          },
          "metadata": {},
          "execution_count": 17
        }
      ]
    },
    {
      "cell_type": "code",
      "source": [
        "class Dog:\n",
        "  def makeNoise(self):\n",
        "    print(\"He says bow bow..\")\n",
        "\n",
        "class Cat:\n",
        "  def makeNoise(self):\n",
        "    print(\"He says meow meow..\")\n",
        "\n",
        "obj_d = Dog()\n",
        "obj_c = Cat()\n",
        "\n",
        "obj_d.makeNoise()\n",
        "obj_c.makeNoise()"
      ],
      "metadata": {
        "colab": {
          "base_uri": "https://localhost:8080/"
        },
        "id": "x4oAPU6QNUrP",
        "outputId": "c7bf651d-5999-4032-b1aa-ddf962c15ed8"
      },
      "execution_count": 18,
      "outputs": [
        {
          "output_type": "stream",
          "name": "stdout",
          "text": [
            "He says bow bow..\n",
            "He says meow meow..\n"
          ]
        }
      ]
    },
    {
      "cell_type": "markdown",
      "source": [
        "***Practice the examples of Inheritance, Encapsulation and Polymorphism provided in the link.***"
      ],
      "metadata": {
        "id": "-NWcoWV-Uk-6"
      }
    },
    {
      "cell_type": "code",
      "source": [
        "# Inheritance\n",
        "class Bird:\n",
        "    \n",
        "    def __init__(self):\n",
        "        print(\"Bird is ready\")\n",
        "\n",
        "    def whoisThis(self):\n",
        "        print(\"Bird\")\n",
        "\n",
        "    def swim(self):\n",
        "        print(\"Swim faster\")\n",
        "\n",
        "class Penguin(Bird):\n",
        "\n",
        "    def __init__(self):\n",
        "        super().__init__()\n",
        "        print(\"Penguin is ready\")\n",
        "\n",
        "    def whoisThis(self):\n",
        "        print(\"Penguin\")\n",
        "\n",
        "    def run(self):\n",
        "        print(\"Run faster\")\n",
        "\n",
        "peggy = Penguin()\n",
        "peggy.whoisThis()\n",
        "peggy.swim()\n",
        "peggy.run()"
      ],
      "metadata": {
        "colab": {
          "base_uri": "https://localhost:8080/"
        },
        "id": "y9AVLKg2UutC",
        "outputId": "cd335f7e-b4af-46a4-a556-6a52e99264e3"
      },
      "execution_count": 19,
      "outputs": [
        {
          "output_type": "stream",
          "name": "stdout",
          "text": [
            "Bird is ready\n",
            "Penguin is ready\n",
            "Penguin\n",
            "Swim faster\n",
            "Run faster\n"
          ]
        }
      ]
    },
    {
      "cell_type": "code",
      "source": [
        "# Encapsulation\n",
        "class Computer:\n",
        "\n",
        "    def __init__(self):\n",
        "        self.__maxprice = 900\n",
        "\n",
        "    def sell(self):\n",
        "        print(\"Selling Price: {}\".format(self.__maxprice))\n",
        "\n",
        "    def setMaxPrice(self, price):\n",
        "        self.__maxprice = price\n",
        "\n",
        "c = Computer()\n",
        "c.sell()\n",
        "\n",
        "c.__maxprice = 1000\n",
        "c.sell()\n",
        "\n",
        "c.setMaxPrice(1000)\n",
        "c.sell()"
      ],
      "metadata": {
        "colab": {
          "base_uri": "https://localhost:8080/"
        },
        "id": "tHYqhYytVFfo",
        "outputId": "26346ce2-8baa-4dad-d059-4a1baa1ea62d"
      },
      "execution_count": 20,
      "outputs": [
        {
          "output_type": "stream",
          "name": "stdout",
          "text": [
            "Selling Price: 900\n",
            "Selling Price: 900\n",
            "Selling Price: 1000\n"
          ]
        }
      ]
    },
    {
      "cell_type": "code",
      "source": [
        "# Polymorphism\n",
        "class Parrot:\n",
        "\n",
        "    def fly(self):\n",
        "        print(\"Parrot can fly\")\n",
        "    \n",
        "    def swim(self):\n",
        "        print(\"Parrot can't swim\")\n",
        "\n",
        "class Penguin:\n",
        "\n",
        "    def fly(self):\n",
        "        print(\"Penguin can't fly\")\n",
        "    \n",
        "    def swim(self):\n",
        "        print(\"Penguin can swim\")\n",
        "\n",
        "def flying_test(bird):\n",
        "    bird.fly()\n",
        "\n",
        "blu = Parrot()\n",
        "peggy = Penguin()\n",
        "\n",
        "flying_test(blu)\n",
        "flying_test(peggy)"
      ],
      "metadata": {
        "colab": {
          "base_uri": "https://localhost:8080/"
        },
        "id": "5uUa50CRVSKF",
        "outputId": "1a738ba8-fba8-4d9e-f953-2a93a4fb0601"
      },
      "execution_count": 21,
      "outputs": [
        {
          "output_type": "stream",
          "name": "stdout",
          "text": [
            "Parrot can fly\n",
            "Penguin can't fly\n"
          ]
        }
      ]
    }
  ]
}