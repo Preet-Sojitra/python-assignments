{
  "nbformat": 4,
  "nbformat_minor": 0,
  "metadata": {
    "colab": {
      "name": "Untitled1.ipynb",
      "provenance": []
    },
    "kernelspec": {
      "name": "python3",
      "display_name": "Python 3"
    },
    "language_info": {
      "name": "python"
    }
  },
  "cells": [
    {
      "cell_type": "markdown",
      "source": [
        "####**1.** WAP to take two floats as input and print all the permutations of the applicable operators on them"
      ],
      "metadata": {
        "id": "ARz7zcug-0jZ"
      }
    },
    {
      "cell_type": "markdown",
      "source": [
        "#**1. Arithmetic Operators**"
      ],
      "metadata": {
        "id": "OHcKgXo2_Cnm"
      }
    },
    {
      "cell_type": "code",
      "source": [
        "a = input(\"Enter first number: \")\n",
        "b = input (\"Enter second number: \")"
      ],
      "metadata": {
        "colab": {
          "base_uri": "https://localhost:8080/"
        },
        "id": "Lb9oUv1c_UdG",
        "outputId": "156f6e94-ae2f-4361-fbc2-33f6ad2df1c5"
      },
      "execution_count": 1,
      "outputs": [
        {
          "name": "stdout",
          "output_type": "stream",
          "text": [
            "Enter first number: 5\n",
            "Enter second number: 3\n"
          ]
        }
      ]
    },
    {
      "cell_type": "code",
      "source": [
        "#1. Addition\n",
        "print(int(a)+ int(b))"
      ],
      "metadata": {
        "colab": {
          "base_uri": "https://localhost:8080/"
        },
        "id": "BEG3-C3V_fpO",
        "outputId": "f01fcb0a-48bd-45d4-daec-17ad26dbc7c9"
      },
      "execution_count": 5,
      "outputs": [
        {
          "output_type": "stream",
          "name": "stdout",
          "text": [
            "8\n"
          ]
        }
      ]
    },
    {
      "cell_type": "code",
      "source": [
        "#2. Subtraction\n",
        "print(int(a)- int(b))"
      ],
      "metadata": {
        "colab": {
          "base_uri": "https://localhost:8080/"
        },
        "id": "8J5yKtuU_8SD",
        "outputId": "8e543d66-fcad-418e-9185-68bbfb4b00b1"
      },
      "execution_count": 6,
      "outputs": [
        {
          "output_type": "stream",
          "name": "stdout",
          "text": [
            "2\n"
          ]
        }
      ]
    },
    {
      "cell_type": "code",
      "source": [
        "#3. Multiplication\n",
        "print(int(a)*int(b))"
      ],
      "metadata": {
        "colab": {
          "base_uri": "https://localhost:8080/"
        },
        "id": "AJVoFSLUADR6",
        "outputId": "7c7a5bab-a180-4965-b135-3e5ab985c3fd"
      },
      "execution_count": 7,
      "outputs": [
        {
          "output_type": "stream",
          "name": "stdout",
          "text": [
            "15\n"
          ]
        }
      ]
    },
    {
      "cell_type": "code",
      "source": [
        "#4 Division\n",
        "print(int(a)/int(b))"
      ],
      "metadata": {
        "colab": {
          "base_uri": "https://localhost:8080/"
        },
        "id": "CRdYmUQiAKzI",
        "outputId": "22b06478-c211-4b0b-c82a-11cbc8478bab"
      },
      "execution_count": 8,
      "outputs": [
        {
          "output_type": "stream",
          "name": "stdout",
          "text": [
            "1.6666666666666667\n"
          ]
        }
      ]
    },
    {
      "cell_type": "code",
      "source": [
        "#5 Modulus\n",
        "print(int(a)%int(b))"
      ],
      "metadata": {
        "colab": {
          "base_uri": "https://localhost:8080/"
        },
        "id": "SnBEZbCtATDC",
        "outputId": "de120a65-c385-4a16-c722-16ac5e8592a7"
      },
      "execution_count": 9,
      "outputs": [
        {
          "output_type": "stream",
          "name": "stdout",
          "text": [
            "2\n"
          ]
        }
      ]
    },
    {
      "cell_type": "code",
      "source": [
        "#6 Exponential\n",
        "print(int(a)**int(b))"
      ],
      "metadata": {
        "colab": {
          "base_uri": "https://localhost:8080/"
        },
        "id": "V-UK-3FPAnNm",
        "outputId": "9b9875a1-5d0e-4b9e-8497-5c6d3f081a65"
      },
      "execution_count": 10,
      "outputs": [
        {
          "output_type": "stream",
          "name": "stdout",
          "text": [
            "125\n"
          ]
        }
      ]
    },
    {
      "cell_type": "code",
      "source": [
        "#7 Floor Division\n",
        "print(int(a)//int(b))"
      ],
      "metadata": {
        "colab": {
          "base_uri": "https://localhost:8080/"
        },
        "id": "RnHo7bCxAuZm",
        "outputId": "666d5ab9-f01d-4160-ce84-b4cd2939de74"
      },
      "execution_count": 11,
      "outputs": [
        {
          "output_type": "stream",
          "name": "stdout",
          "text": [
            "1\n"
          ]
        }
      ]
    },
    {
      "cell_type": "markdown",
      "source": [
        "# **2. Assignment Operators**"
      ],
      "metadata": {
        "id": "yHIGt3RjA5IV"
      }
    },
    {
      "cell_type": "code",
      "source": [
        "#1 '=' Operator\n",
        "a = 7\n",
        "b = 10\n",
        "print(a,b)"
      ],
      "metadata": {
        "colab": {
          "base_uri": "https://localhost:8080/"
        },
        "id": "p4p1eSyGA_qz",
        "outputId": "8768849d-1f99-46a5-e9b8-d644308f1a0d"
      },
      "execution_count": 15,
      "outputs": [
        {
          "output_type": "stream",
          "name": "stdout",
          "text": [
            "7 10\n"
          ]
        }
      ]
    },
    {
      "cell_type": "code",
      "source": [
        "#2 '+=' operator\n",
        "a += 2\n",
        "b += 3\n",
        "print(a,b)"
      ],
      "metadata": {
        "colab": {
          "base_uri": "https://localhost:8080/"
        },
        "id": "c755bWA3BKkq",
        "outputId": "cf311fe3-57fb-4ac9-fb88-7ef3bbe961e7"
      },
      "execution_count": 16,
      "outputs": [
        {
          "output_type": "stream",
          "name": "stdout",
          "text": [
            "9 13\n"
          ]
        }
      ]
    },
    {
      "cell_type": "code",
      "source": [
        "#3 '-=' operator\n",
        "a -= 2\n",
        "b -= 3\n",
        "print(a,b)"
      ],
      "metadata": {
        "colab": {
          "base_uri": "https://localhost:8080/"
        },
        "id": "Fw-MARa0Bk3P",
        "outputId": "f6a6492b-25fe-483b-efb0-18accc3ae4e7"
      },
      "execution_count": 17,
      "outputs": [
        {
          "output_type": "stream",
          "name": "stdout",
          "text": [
            "7 10\n"
          ]
        }
      ]
    },
    {
      "cell_type": "code",
      "source": [
        "#4 '*=' operator\n",
        "a *= 2\n",
        "b *= 3\n",
        "print(a,b)"
      ],
      "metadata": {
        "colab": {
          "base_uri": "https://localhost:8080/"
        },
        "id": "PsEFSxn9BqN2",
        "outputId": "b7ee3749-6f83-4d44-c443-2c5ab6947845"
      },
      "execution_count": 18,
      "outputs": [
        {
          "output_type": "stream",
          "name": "stdout",
          "text": [
            "14 30\n"
          ]
        }
      ]
    },
    {
      "cell_type": "code",
      "source": [
        "#5 '/=' operator\n",
        "a /= 2\n",
        "b /= 3\n",
        "print(a,b)"
      ],
      "metadata": {
        "colab": {
          "base_uri": "https://localhost:8080/"
        },
        "id": "Negi07saBwi7",
        "outputId": "5850ea6c-8225-4bb1-c550-6ccd231d496f"
      },
      "execution_count": 19,
      "outputs": [
        {
          "output_type": "stream",
          "name": "stdout",
          "text": [
            "7.0 10.0\n"
          ]
        }
      ]
    },
    {
      "cell_type": "code",
      "source": [
        "#6 '%=' operator\n",
        "a %= 2\n",
        "b %= 3\n",
        "print(a,b)"
      ],
      "metadata": {
        "colab": {
          "base_uri": "https://localhost:8080/"
        },
        "id": "yF0eyHZjB2sG",
        "outputId": "5e48c984-5f5c-4b7d-e315-c62856634dbf"
      },
      "execution_count": 20,
      "outputs": [
        {
          "output_type": "stream",
          "name": "stdout",
          "text": [
            "1.0 1.0\n"
          ]
        }
      ]
    },
    {
      "cell_type": "code",
      "source": [
        "#7 '//=' operator\n",
        "a //= 2\n",
        "b //= 3\n",
        "print(a,b)"
      ],
      "metadata": {
        "colab": {
          "base_uri": "https://localhost:8080/"
        },
        "id": "y9JqfbkCCCjE",
        "outputId": "b85eb226-19c6-4cdc-ae90-2edce97285d9"
      },
      "execution_count": 21,
      "outputs": [
        {
          "output_type": "stream",
          "name": "stdout",
          "text": [
            "0.0 0.0\n"
          ]
        }
      ]
    },
    {
      "cell_type": "code",
      "source": [
        "#8 '**=' operator\n",
        "a = 2\n",
        "b = 3\n",
        "a **= 2\n",
        "b **= 3\n",
        "print(a,b)"
      ],
      "metadata": {
        "colab": {
          "base_uri": "https://localhost:8080/"
        },
        "id": "iAM9fCBDCKl3",
        "outputId": "267410a4-98ff-4099-b78a-d682e8fc90e1"
      },
      "execution_count": 23,
      "outputs": [
        {
          "output_type": "stream",
          "name": "stdout",
          "text": [
            "4 27\n"
          ]
        }
      ]
    },
    {
      "cell_type": "markdown",
      "source": [
        "# **3. Comparison Operators**"
      ],
      "metadata": {
        "id": "ykKMrA6DDHeC"
      }
    },
    {
      "cell_type": "code",
      "source": [
        "#1 \"==\" Operator\n",
        "print (\"a is: \" + str(a) + \" and b is: \" + str(b))\n",
        "print(a==b)"
      ],
      "metadata": {
        "colab": {
          "base_uri": "https://localhost:8080/"
        },
        "id": "4P__ldzJDK1I",
        "outputId": "c651eeb5-7cac-484e-de65-a892db7e7362"
      },
      "execution_count": 29,
      "outputs": [
        {
          "output_type": "stream",
          "name": "stdout",
          "text": [
            "a is: 3 and b is: 7\n",
            "False\n"
          ]
        }
      ]
    },
    {
      "cell_type": "code",
      "source": [
        "#2 \"!=\" Operator\n",
        "print (\"a is: \" + str(a) + \" and b is: \" + str(b))\n",
        "print(a!=b)"
      ],
      "metadata": {
        "colab": {
          "base_uri": "https://localhost:8080/"
        },
        "id": "dVFoEc58DoTJ",
        "outputId": "1d2bc906-6727-464a-b856-413c223a1bb1"
      },
      "execution_count": 30,
      "outputs": [
        {
          "output_type": "stream",
          "name": "stdout",
          "text": [
            "a is: 3 and b is: 7\n",
            "True\n"
          ]
        }
      ]
    },
    {
      "cell_type": "code",
      "source": [
        "#3 \">\" Operator\n",
        "print (\"a is: \" + str(a) + \" and b is: \" + str(b))\n",
        "print(a>b)"
      ],
      "metadata": {
        "colab": {
          "base_uri": "https://localhost:8080/"
        },
        "id": "AzmuQKa6Dsze",
        "outputId": "2bc77f82-4556-44b6-f789-730fdc1cf91b"
      },
      "execution_count": 31,
      "outputs": [
        {
          "output_type": "stream",
          "name": "stdout",
          "text": [
            "a is: 3 and b is: 7\n",
            "False\n"
          ]
        }
      ]
    },
    {
      "cell_type": "code",
      "source": [
        "#4 \"<\" Operator\n",
        "print (\"a is: \" + str(a) + \" and b is: \" + str(b))\n",
        "print(a<b)"
      ],
      "metadata": {
        "colab": {
          "base_uri": "https://localhost:8080/"
        },
        "id": "zihDwotSDyy1",
        "outputId": "a306d566-84fd-40f5-e524-038e737b3c5c"
      },
      "execution_count": 32,
      "outputs": [
        {
          "output_type": "stream",
          "name": "stdout",
          "text": [
            "a is: 3 and b is: 7\n",
            "True\n"
          ]
        }
      ]
    },
    {
      "cell_type": "code",
      "source": [
        "#5 \">=\" Operator\n",
        "print (\"a is: \" + str(a) + \" and b is: \" + str(b))\n",
        "print(a>=b)"
      ],
      "metadata": {
        "colab": {
          "base_uri": "https://localhost:8080/"
        },
        "id": "_khsxXnmD5pg",
        "outputId": "4f98215d-2650-41d9-8a2b-797b4bc9366d"
      },
      "execution_count": 33,
      "outputs": [
        {
          "output_type": "stream",
          "name": "stdout",
          "text": [
            "a is: 3 and b is: 7\n",
            "False\n"
          ]
        }
      ]
    },
    {
      "cell_type": "code",
      "source": [
        "#6 <==\" Operator\n",
        "print (\"a is: \" + str(a) + \" and b is: \" + str(b))\n",
        "print(a<=b)"
      ],
      "metadata": {
        "colab": {
          "base_uri": "https://localhost:8080/"
        },
        "id": "u04F-dV6D8mb",
        "outputId": "62d474fa-103c-48ec-bedc-bf4950cc35fd"
      },
      "execution_count": 34,
      "outputs": [
        {
          "output_type": "stream",
          "name": "stdout",
          "text": [
            "a is: 3 and b is: 7\n",
            "True\n"
          ]
        }
      ]
    },
    {
      "cell_type": "markdown",
      "source": [
        "# **4.Logical Operator**"
      ],
      "metadata": {
        "id": "f3eWdPuiEI-G"
      }
    },
    {
      "cell_type": "code",
      "source": [
        "#1 'and' operator\n",
        "a = 10\n",
        "b = 6\n",
        "print (\"a is: \" + str(a) + \" and b is: \" + str(b))\n",
        "print(a>b and a>=b)"
      ],
      "metadata": {
        "colab": {
          "base_uri": "https://localhost:8080/"
        },
        "id": "A2FEygdHELyO",
        "outputId": "92492d59-40f2-49e1-a392-de0abfd75512"
      },
      "execution_count": 37,
      "outputs": [
        {
          "output_type": "stream",
          "name": "stdout",
          "text": [
            "a is: 10 and b is: 6\n",
            "True\n"
          ]
        }
      ]
    },
    {
      "cell_type": "code",
      "source": [
        "#2 'or' operator\n",
        "a = 10\n",
        "b = 6\n",
        "print (\"a is: \" + str(a) + \" and b is: \" + str(b))\n",
        "print(a>b or a<=b)"
      ],
      "metadata": {
        "colab": {
          "base_uri": "https://localhost:8080/"
        },
        "id": "W62vdWizEru0",
        "outputId": "7c3f8fbc-527d-47f6-fad9-4f4fecf6f54d"
      },
      "execution_count": 38,
      "outputs": [
        {
          "output_type": "stream",
          "name": "stdout",
          "text": [
            "a is: 10 and b is: 6\n",
            "True\n"
          ]
        }
      ]
    },
    {
      "cell_type": "code",
      "source": [
        "#3 'and' operator\n",
        "a = 10\n",
        "b = 6\n",
        "print (\"a is: \" + str(a) + \" and b is: \" + str(b))\n",
        "print(not(a>b and a>=b))"
      ],
      "metadata": {
        "colab": {
          "base_uri": "https://localhost:8080/"
        },
        "id": "HUktasAXE4zL",
        "outputId": "3d7cc5ee-92c5-49c5-fc82-30eb05e9d2e0"
      },
      "execution_count": 39,
      "outputs": [
        {
          "output_type": "stream",
          "name": "stdout",
          "text": [
            "a is: 10 and b is: 6\n",
            "False\n"
          ]
        }
      ]
    },
    {
      "cell_type": "markdown",
      "source": [
        "# **5. Identity Operators**"
      ],
      "metadata": {
        "id": "rIoDxD_GE_aX"
      }
    },
    {
      "cell_type": "code",
      "source": [
        "#1 'is' operator\n",
        "a = 6\n",
        "b = 6\n",
        "print (\"a is: \" + str(a) + \" and b is: \" + str(b))\n",
        "print(a is b)"
      ],
      "metadata": {
        "colab": {
          "base_uri": "https://localhost:8080/"
        },
        "id": "o2_ScFHiFN1O",
        "outputId": "c858b29a-b119-43be-d9e9-5ca5570c5f06"
      },
      "execution_count": 40,
      "outputs": [
        {
          "output_type": "stream",
          "name": "stdout",
          "text": [
            "a is: 6 and b is: 6\n",
            "True\n"
          ]
        }
      ]
    },
    {
      "cell_type": "code",
      "source": [
        "#2 'is' operator\n",
        "a = 6\n",
        "b = 6\n",
        "print (\"a is: \" + str(a) + \" and b is: \" + str(b))\n",
        "print(a is not b)"
      ],
      "metadata": {
        "colab": {
          "base_uri": "https://localhost:8080/"
        },
        "id": "_w9n69ngFVko",
        "outputId": "5f225b26-3161-40fd-ceb2-486c5e6d69b6"
      },
      "execution_count": 41,
      "outputs": [
        {
          "output_type": "stream",
          "name": "stdout",
          "text": [
            "a is: 6 and b is: 6\n",
            "False\n"
          ]
        }
      ]
    },
    {
      "cell_type": "markdown",
      "source": [
        "# **6. Membership Operators**"
      ],
      "metadata": {
        "id": "o_GixyZoF1uT"
      }
    },
    {
      "cell_type": "code",
      "source": [
        "#1 'in' operator\n",
        "rollNo = ['25', '69', '420', '54']\n",
        "print('69' in rollNo)"
      ],
      "metadata": {
        "colab": {
          "base_uri": "https://localhost:8080/"
        },
        "id": "X2k16aFGF4dC",
        "outputId": "a9252164-ee2a-4583-ab88-db0241350acc"
      },
      "execution_count": 44,
      "outputs": [
        {
          "output_type": "stream",
          "name": "stdout",
          "text": [
            "True\n"
          ]
        }
      ]
    },
    {
      "cell_type": "code",
      "source": [
        "#2 'not in' operator\n",
        "rollNo = ['25', '69', '420', '54']\n",
        "print('25' not in rollNo)"
      ],
      "metadata": {
        "colab": {
          "base_uri": "https://localhost:8080/"
        },
        "id": "rK3hFjoNGX58",
        "outputId": "da09b617-46e9-4f29-bbf6-a835192287d1"
      },
      "execution_count": 45,
      "outputs": [
        {
          "output_type": "stream",
          "name": "stdout",
          "text": [
            "False\n"
          ]
        }
      ]
    }
  ]
}